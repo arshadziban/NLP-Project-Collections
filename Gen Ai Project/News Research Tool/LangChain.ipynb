{
 "cells": [
  {
   "cell_type": "code",
   "execution_count": 2,
   "id": "936f722e",
   "metadata": {},
   "outputs": [],
   "source": [
    "from langchain.document_loaders import TextLoader"
   ]
  },
  {
   "cell_type": "code",
   "execution_count": 3,
   "id": "10f69448",
   "metadata": {},
   "outputs": [],
   "source": [
    "loader = TextLoader(\"D:\\\\Skills\\\\NLP-Project-Collections\\\\Gen Ai Project\\\\News Research Tool\\\\test.txt\")"
   ]
  },
  {
   "cell_type": "code",
   "execution_count": 4,
   "id": "d20f4188",
   "metadata": {},
   "outputs": [],
   "source": [
    "documents = loader.load()"
   ]
  },
  {
   "cell_type": "code",
   "execution_count": 5,
   "id": "62d62d63",
   "metadata": {},
   "outputs": [
    {
     "data": {
      "text/plain": [
       "[Document(metadata={'source': 'D:\\\\Skills\\\\NLP-Project-Collections\\\\Gen Ai Project\\\\News Research Tool\\\\test.txt'}, page_content='Once upon a time, in a small village surrounded by mountains, there lived a curious cat named Whiskers. Whiskers loved exploring the forest, chasing butterflies, and napping under the sun. One day, while wandering near the river, Whiskers discovered a hidden cave filled with glowing crystals.\\n\\n\\nInside the cave, he met a wise old owl who shared stories of ancient magic and forgotten treasures. Together, they embarked on an adventure that changed the village forever.')]"
      ]
     },
     "execution_count": 5,
     "metadata": {},
     "output_type": "execute_result"
    }
   ],
   "source": [
    "documents"
   ]
  },
  {
   "cell_type": "code",
   "execution_count": 6,
   "id": "611abbcf",
   "metadata": {},
   "outputs": [
    {
     "data": {
      "text/plain": [
       "'Once upon a time, in a small village surrounded by mountains, there lived a curious cat named Whiskers. Whiskers loved exploring the forest, chasing butterflies, and napping under the sun. One day, while wandering near the river, Whiskers discovered a hidden cave filled with glowing crystals.\\n\\n\\nInside the cave, he met a wise old owl who shared stories of ancient magic and forgotten treasures. Together, they embarked on an adventure that changed the village forever.'"
      ]
     },
     "execution_count": 6,
     "metadata": {},
     "output_type": "execute_result"
    }
   ],
   "source": [
    "documents[0].page_content"
   ]
  },
  {
   "cell_type": "code",
   "execution_count": 7,
   "id": "f2ad8430",
   "metadata": {},
   "outputs": [
    {
     "data": {
      "text/plain": [
       "{'source': 'D:\\\\Skills\\\\NLP-Project-Collections\\\\Gen Ai Project\\\\News Research Tool\\\\test.txt'}"
      ]
     },
     "execution_count": 7,
     "metadata": {},
     "output_type": "execute_result"
    }
   ],
   "source": [
    "documents[0].metadata"
   ]
  },
  {
   "cell_type": "code",
   "execution_count": 8,
   "id": "ea50c19a",
   "metadata": {},
   "outputs": [],
   "source": [
    "# Import the document loader from LangChain\n",
    "from langchain.document_loaders import UnstructuredURLLoader"
   ]
  },
  {
   "cell_type": "code",
   "execution_count": 8,
   "id": "e72331b9",
   "metadata": {},
   "outputs": [],
   "source": [
    "loader = UnstructuredURLLoader(\n",
    "    urls=[\"https://www.aljazeera.com/news/2025/4/13/sudans-rsf-claims-control-of-famine-hit-zamzam-camp-in-darfur\",\n",
    "          \"https://www.bbc.com/sport/football/articles/c62xgvq8z9yo\"]\n",
    ")"
   ]
  },
  {
   "cell_type": "code",
   "execution_count": 9,
   "id": "434783bd",
   "metadata": {},
   "outputs": [],
   "source": [
    "data = loader.load()"
   ]
  },
  {
   "cell_type": "code",
   "execution_count": 10,
   "id": "494d6f1f",
   "metadata": {},
   "outputs": [
    {
     "data": {
      "text/plain": [
       "1"
      ]
     },
     "execution_count": 10,
     "metadata": {},
     "output_type": "execute_result"
    }
   ],
   "source": [
    "len(data)"
   ]
  },
  {
   "cell_type": "code",
   "execution_count": 1,
   "id": "502af1ac",
   "metadata": {},
   "outputs": [],
   "source": [
    "texts = \"\"\"In a time long forgotten, nestled between the mountains and the sea, there was a kingdom untouched by war or famine. Its people lived in harmony, guided by a council of elders who held wisdom older than the forests themselves. The rivers flowed with clarity, the air carried the scent of wildflowers, and every morning, the sun painted the sky with colors too vivid for words. But peace, as it often does, was destined to falter. Whispers began in the markets—rumors of shadows moving across the northern border, crops failing in villages where the soil had once been gold. The king, old and weary, summoned his advisors. They argued and plotted, some believing the kingdom must seal its gates, others calling for aid to their neighbors.\n",
    "Among them stood Elira, a young historian who had spent her life reading scrolls no one else touched. She spoke of a prophecy—one written in a forgotten tongue about a darkness returning not with armies, but with silence. Her warnings were ignored, her scrolls dismissed as fairy tales.\n",
    "One night, the stars vanished. Not dimmed—vanished. Panic swept across the land. Plants refused to bloom. Birds flew in circles, disoriented. And in the silence, a melody began to play. Not from instrument or voice, but from the earth itself. Elira knew the time had come.\n",
    "She traveled with a small group into the Valley of Echoes, a place long avoided by even the bravest warriors. They found ruins pulsing with energy, runes glowing faintly on stones broken centuries ago. As she touched them, visions flooded her mind: the rise and fall of civilizations, the balance of light and dark, the cycle repeating over and over.\"\"\"\n"
   ]
  },
  {
   "cell_type": "code",
   "execution_count": 2,
   "id": "ae109e07",
   "metadata": {},
   "outputs": [
    {
     "data": {
      "text/plain": [
       "'In a time long forgotten, nestled between the mountains and the sea, there was a kingdom untouched by war or famine. Its people lived in harmony, guided by a council of elders who held wisdom older than the forests themselves. The rivers flowed with clarity, the air carried the scent of wildflowers, and every morning, the sun painted the sky with colors too vivid for words. But peace, as it often does, was destined to falter. Whispers began in the markets—rumors of shadows moving across the northern border, crops failing in villages where the soil had once been gold. The king, old and weary, summoned his advisors. They argued and plotted, some believing the kingdom must seal its gates, others calling for aid to their neighbors.\\nAmong them stood Elira, a young historian who had spent her life reading scrolls no one else touched. She spoke of a prophecy—one written in a forgotten tongue about a darkness returning not with armies, but with silence. Her warnings were ignored, her scrolls dismissed as fairy tales.\\nOne night, the stars vanished. Not dimmed—vanished. Panic swept across the land. Plants refused to bloom. Birds flew in circles, disoriented. And in the silence, a melody began to play. Not from instrument or voice, but from the earth itself. Elira knew the time had come.\\nShe traveled with a small group into the Valley of Echoes, a place long avoided by even the bravest warriors. They found ruins pulsing with energy, runes glowing faintly on stones broken centuries ago. As she touched them, visions flooded her mind: the rise and fall of civilizations, the balance of light and dark, the cycle repeating over and over.'"
      ]
     },
     "execution_count": 2,
     "metadata": {},
     "output_type": "execute_result"
    }
   ],
   "source": [
    "texts"
   ]
  },
  {
   "cell_type": "code",
   "execution_count": 3,
   "id": "9c39230b",
   "metadata": {},
   "outputs": [],
   "source": [
    "chunks = []\n",
    "s = \"\""
   ]
  },
  {
   "cell_type": "code",
   "execution_count": 7,
   "id": "3b92bdb2",
   "metadata": {},
   "outputs": [],
   "source": [
    "for text in texts:\n",
    "    s += text + \" \"\n",
    "    if len(s) > 500:\n",
    "        chunks.append(s)\n",
    "        s = \"\""
   ]
  },
  {
   "cell_type": "code",
   "execution_count": 8,
   "id": "420de428",
   "metadata": {},
   "outputs": [],
   "source": [
    "chunks.append(s)"
   ]
  },
  {
   "cell_type": "code",
   "execution_count": 9,
   "id": "002bc413",
   "metadata": {},
   "outputs": [
    {
     "data": {
      "text/plain": [
       "'n e s   b r o k e n   c e n t u r i e s   a g o .   A s   s h e   t o u c h e d   t h e m ,   v i s i o n s   f l o o d e d   h e r   m i n d :   t h e   r i s e   a n d   f a l l   o f   c i v i l i z a t i o n s ,   t h e   b a l a n c e   o f   l i g h t   a n d   d a r k ,   t h e   c y c l e   r e p e a t i n g   o v e r   a n d   o v e r . '"
      ]
     },
     "execution_count": 9,
     "metadata": {},
     "output_type": "execute_result"
    }
   ],
   "source": [
    "s"
   ]
  },
  {
   "cell_type": "code",
   "execution_count": 10,
   "id": "2ae9bdaf",
   "metadata": {},
   "outputs": [],
   "source": [
    "from langchain.text_splitter import CharacterTextSplitter"
   ]
  },
  {
   "cell_type": "code",
   "execution_count": 11,
   "id": "8e256a8e",
   "metadata": {},
   "outputs": [
    {
     "name": "stderr",
     "output_type": "stream",
     "text": [
      "Created a chunk of size 737, which is longer than the specified 200\n",
      "Created a chunk of size 286, which is longer than the specified 200\n",
      "Created a chunk of size 272, which is longer than the specified 200\n"
     ]
    },
    {
     "data": {
      "text/plain": [
       "4"
      ]
     },
     "execution_count": 11,
     "metadata": {},
     "output_type": "execute_result"
    }
   ],
   "source": [
    "splitter = CharacterTextSplitter(\n",
    "    separator=\"\\n\",\n",
    "    chunk_size=200,\n",
    "    chunk_overlap=0,\n",
    ")\n",
    "chunks = splitter.split_text(texts)\n",
    "len(chunks)"
   ]
  },
  {
   "cell_type": "code",
   "execution_count": 12,
   "id": "6d4b3b22",
   "metadata": {},
   "outputs": [
    {
     "data": {
      "text/plain": [
       "['In a time long forgotten, nestled between the mountains and the sea, there was a kingdom untouched by war or famine. Its people lived in harmony, guided by a council of elders who held wisdom older than the forests themselves. The rivers flowed with clarity, the air carried the scent of wildflowers, and every morning, the sun painted the sky with colors too vivid for words. But peace, as it often does, was destined to falter. Whispers began in the markets—rumors of shadows moving across the northern border, crops failing in villages where the soil had once been gold. The king, old and weary, summoned his advisors. They argued and plotted, some believing the kingdom must seal its gates, others calling for aid to their neighbors.',\n",
       " 'Among them stood Elira, a young historian who had spent her life reading scrolls no one else touched. She spoke of a prophecy—one written in a forgotten tongue about a darkness returning not with armies, but with silence. Her warnings were ignored, her scrolls dismissed as fairy tales.',\n",
       " 'One night, the stars vanished. Not dimmed—vanished. Panic swept across the land. Plants refused to bloom. Birds flew in circles, disoriented. And in the silence, a melody began to play. Not from instrument or voice, but from the earth itself. Elira knew the time had come.',\n",
       " 'She traveled with a small group into the Valley of Echoes, a place long avoided by even the bravest warriors. They found ruins pulsing with energy, runes glowing faintly on stones broken centuries ago. As she touched them, visions flooded her mind: the rise and fall of civilizations, the balance of light and dark, the cycle repeating over and over.']"
      ]
     },
     "execution_count": 12,
     "metadata": {},
     "output_type": "execute_result"
    }
   ],
   "source": [
    "chunks"
   ]
  },
  {
   "cell_type": "code",
   "execution_count": null,
   "id": "cef18606",
   "metadata": {},
   "outputs": [],
   "source": []
  }
 ],
 "metadata": {
  "kernelspec": {
   "display_name": "env",
   "language": "python",
   "name": "python3"
  },
  "language_info": {
   "codemirror_mode": {
    "name": "ipython",
    "version": 3
   },
   "file_extension": ".py",
   "mimetype": "text/x-python",
   "name": "python",
   "nbconvert_exporter": "python",
   "pygments_lexer": "ipython3",
   "version": "3.10.6"
  }
 },
 "nbformat": 4,
 "nbformat_minor": 5
}
