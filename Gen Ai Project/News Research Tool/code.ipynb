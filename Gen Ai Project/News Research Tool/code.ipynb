{
 "cells": [
  {
   "cell_type": "code",
   "execution_count": 3,
   "id": "936f722e",
   "metadata": {},
   "outputs": [],
   "source": [
    "from langchain.document_loaders import TextLoader"
   ]
  },
  {
   "cell_type": "code",
   "execution_count": 4,
   "id": "10f69448",
   "metadata": {},
   "outputs": [],
   "source": [
    "loader = TextLoader(\"D:\\\\Skills\\\\NLP-Project-Collections\\\\Gen Ai Project\\\\News Research Tool\\\\test.txt\")"
   ]
  },
  {
   "cell_type": "code",
   "execution_count": 5,
   "id": "d20f4188",
   "metadata": {},
   "outputs": [],
   "source": [
    "documents = loader.load()"
   ]
  },
  {
   "cell_type": "code",
   "execution_count": 6,
   "id": "62d62d63",
   "metadata": {},
   "outputs": [
    {
     "data": {
      "text/plain": [
       "[Document(metadata={'source': 'D:\\\\Skills\\\\NLP-Project-Collections\\\\Gen Ai Project\\\\News Research Tool\\\\test.txt'}, page_content='Once upon a time, in a small village surrounded by mountains, there lived a curious cat named Whiskers. Whiskers loved exploring the forest, chasing butterflies, and napping under the sun. One day, while wandering near the river, Whiskers discovered a hidden cave filled with glowing crystals. Inside the cave, he met a wise old owl who shared stories of ancient magic and forgotten treasures. Together, they embarked on an adventure that changed the village forever.')]"
      ]
     },
     "execution_count": 6,
     "metadata": {},
     "output_type": "execute_result"
    }
   ],
   "source": [
    "documents"
   ]
  },
  {
   "cell_type": "code",
   "execution_count": 8,
   "id": "611abbcf",
   "metadata": {},
   "outputs": [
    {
     "data": {
      "text/plain": [
       "'Once upon a time, in a small village surrounded by mountains, there lived a curious cat named Whiskers. Whiskers loved exploring the forest, chasing butterflies, and napping under the sun. One day, while wandering near the river, Whiskers discovered a hidden cave filled with glowing crystals. Inside the cave, he met a wise old owl who shared stories of ancient magic and forgotten treasures. Together, they embarked on an adventure that changed the village forever.'"
      ]
     },
     "execution_count": 8,
     "metadata": {},
     "output_type": "execute_result"
    }
   ],
   "source": [
    "documents[0].page_content"
   ]
  },
  {
   "cell_type": "code",
   "execution_count": 9,
   "id": "f2ad8430",
   "metadata": {},
   "outputs": [
    {
     "data": {
      "text/plain": [
       "{'source': 'D:\\\\Skills\\\\NLP-Project-Collections\\\\Gen Ai Project\\\\News Research Tool\\\\test.txt'}"
      ]
     },
     "execution_count": 9,
     "metadata": {},
     "output_type": "execute_result"
    }
   ],
   "source": [
    "documents[0].metadata"
   ]
  },
  {
   "cell_type": "code",
   "execution_count": null,
   "id": "ea50c19a",
   "metadata": {},
   "outputs": [],
   "source": []
  }
 ],
 "metadata": {
  "kernelspec": {
   "display_name": "env",
   "language": "python",
   "name": "python3"
  },
  "language_info": {
   "codemirror_mode": {
    "name": "ipython",
    "version": 3
   },
   "file_extension": ".py",
   "mimetype": "text/x-python",
   "name": "python",
   "nbconvert_exporter": "python",
   "pygments_lexer": "ipython3",
   "version": "3.10.6"
  }
 },
 "nbformat": 4,
 "nbformat_minor": 5
}
